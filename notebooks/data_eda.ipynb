{
 "cells": [
  {
   "cell_type": "markdown",
   "id": "6856e161",
   "metadata": {},
   "source": [
    "##### 1- Import libs"
   ]
  },
  {
   "cell_type": "code",
   "execution_count": 1,
   "id": "67de23f8",
   "metadata": {},
   "outputs": [],
   "source": [
    "import pandas as pd\n",
    "import numpy as np \n",
    "import matplotlib as plt \n",
    "import seaborn as sns\n",
    "import os "
   ]
  },
  {
   "cell_type": "markdown",
   "id": "b8eb523c",
   "metadata": {},
   "source": [
    "##### 2- Prepare the used dataset"
   ]
  },
  {
   "cell_type": "code",
   "execution_count": 2,
   "id": "86b09672",
   "metadata": {},
   "outputs": [
    {
     "data": {
      "text/plain": [
       "['.gitkeep', 'data_eda.ipynb', 'xx.ipynb']"
      ]
     },
     "execution_count": 2,
     "metadata": {},
     "output_type": "execute_result"
    }
   ],
   "source": [
    "os.listdir()"
   ]
  },
  {
   "cell_type": "code",
   "execution_count": 3,
   "id": "c84b23f2",
   "metadata": {},
   "outputs": [],
   "source": [
    "DATA_PATH = '../data/raw'\n"
   ]
  },
  {
   "cell_type": "code",
   "execution_count": 4,
   "id": "6e4b6725",
   "metadata": {},
   "outputs": [
    {
     "data": {
      "text/plain": [
       "['train-00000-of-00007-bc5952582e004d67.csv',\n",
       " 'train-00001-of-00007-71c80017bc45f30d.csv',\n",
       " 'train-00002-of-00007-ee2d43f396e78fbc.csv',\n",
       " 'train-00003-of-00007-529931154b42b51d.csv',\n",
       " 'train-00004-of-00007-b269dc49374a2c0b.csv',\n",
       " 'train-00005-of-00007-3dce5e05ddbad789.csv',\n",
       " 'train-00006-of-00007-3d8a471ba0cf1c8d.csv']"
      ]
     },
     "execution_count": 4,
     "metadata": {},
     "output_type": "execute_result"
    }
   ],
   "source": [
    "subsets =[]\n",
    "for subset in os.listdir(DATA_PATH):\n",
    "    if subset.endswith('.csv'):\n",
    "        subsets.append(subset)\n",
    "subsets"
   ]
  },
  {
   "cell_type": "code",
   "execution_count": 5,
   "id": "0d97bf70",
   "metadata": {},
   "outputs": [],
   "source": [
    "subsets = [os.path.join(DATA_PATH, subset) for subset in subsets]\n"
   ]
  },
  {
   "cell_type": "code",
   "execution_count": 6,
   "id": "e6cfd1a1",
   "metadata": {},
   "outputs": [
    {
     "data": {
      "text/plain": [
       "['../data/raw\\\\train-00000-of-00007-bc5952582e004d67.csv',\n",
       " '../data/raw\\\\train-00001-of-00007-71c80017bc45f30d.csv',\n",
       " '../data/raw\\\\train-00002-of-00007-ee2d43f396e78fbc.csv',\n",
       " '../data/raw\\\\train-00003-of-00007-529931154b42b51d.csv',\n",
       " '../data/raw\\\\train-00004-of-00007-b269dc49374a2c0b.csv',\n",
       " '../data/raw\\\\train-00005-of-00007-3dce5e05ddbad789.csv',\n",
       " '../data/raw\\\\train-00006-of-00007-3d8a471ba0cf1c8d.csv']"
      ]
     },
     "execution_count": 6,
     "metadata": {},
     "output_type": "execute_result"
    }
   ],
   "source": [
    "subsets"
   ]
  },
  {
   "cell_type": "code",
   "execution_count": 7,
   "id": "23b50efa",
   "metadata": {},
   "outputs": [],
   "source": [
    "subsets = [os.path.normpath(path) for path in subsets]"
   ]
  },
  {
   "cell_type": "code",
   "execution_count": 8,
   "id": "40c8e433",
   "metadata": {},
   "outputs": [],
   "source": [
    "dataframes = [pd.read_csv(df) for df in subsets]"
   ]
  },
  {
   "cell_type": "code",
   "execution_count": 9,
   "id": "4be12dec",
   "metadata": {},
   "outputs": [],
   "source": [
    "full_df = pd.concat(dataframes,ignore_index=True)"
   ]
  },
  {
   "cell_type": "markdown",
   "id": "fa23ce60",
   "metadata": {},
   "source": [
    "##### 3- EDA"
   ]
  },
  {
   "cell_type": "code",
   "execution_count": 10,
   "id": "c6d8f376",
   "metadata": {},
   "outputs": [
    {
     "data": {
      "text/plain": [
       "(1392522, 3)"
      ]
     },
     "execution_count": 10,
     "metadata": {},
     "output_type": "execute_result"
    }
   ],
   "source": [
    "full_df.shape"
   ]
  },
  {
   "cell_type": "code",
   "execution_count": 11,
   "id": "b2df60ab",
   "metadata": {},
   "outputs": [
    {
     "data": {
      "text/html": [
       "<div>\n",
       "<style scoped>\n",
       "    .dataframe tbody tr th:only-of-type {\n",
       "        vertical-align: middle;\n",
       "    }\n",
       "\n",
       "    .dataframe tbody tr th {\n",
       "        vertical-align: top;\n",
       "    }\n",
       "\n",
       "    .dataframe thead th {\n",
       "        text-align: right;\n",
       "    }\n",
       "</style>\n",
       "<table border=\"1\" class=\"dataframe\">\n",
       "  <thead>\n",
       "    <tr style=\"text-align: right;\">\n",
       "      <th></th>\n",
       "      <th>source</th>\n",
       "      <th>id</th>\n",
       "      <th>text</th>\n",
       "    </tr>\n",
       "  </thead>\n",
       "  <tbody>\n",
       "    <tr>\n",
       "      <th>0</th>\n",
       "      <td>human</td>\n",
       "      <td>0</td>\n",
       "      <td>12 Years a Slave: An Analysis of the Film Essa...</td>\n",
       "    </tr>\n",
       "    <tr>\n",
       "      <th>1</th>\n",
       "      <td>human</td>\n",
       "      <td>1</td>\n",
       "      <td>20+ Social Media Post Ideas to Radically Simpl...</td>\n",
       "    </tr>\n",
       "    <tr>\n",
       "      <th>2</th>\n",
       "      <td>human</td>\n",
       "      <td>2</td>\n",
       "      <td>2022 Russian Invasion of Ukraine in Global Med...</td>\n",
       "    </tr>\n",
       "    <tr>\n",
       "      <th>3</th>\n",
       "      <td>human</td>\n",
       "      <td>3</td>\n",
       "      <td>533 U.S. 27 (2001) Kyllo v. United States: The...</td>\n",
       "    </tr>\n",
       "    <tr>\n",
       "      <th>4</th>\n",
       "      <td>human</td>\n",
       "      <td>4</td>\n",
       "      <td>A Charles Schwab Corporation Case Essay\\n\\nCha...</td>\n",
       "    </tr>\n",
       "  </tbody>\n",
       "</table>\n",
       "</div>"
      ],
      "text/plain": [
       "  source  id                                               text\n",
       "0  human   0  12 Years a Slave: An Analysis of the Film Essa...\n",
       "1  human   1  20+ Social Media Post Ideas to Radically Simpl...\n",
       "2  human   2  2022 Russian Invasion of Ukraine in Global Med...\n",
       "3  human   3  533 U.S. 27 (2001) Kyllo v. United States: The...\n",
       "4  human   4  A Charles Schwab Corporation Case Essay\\n\\nCha..."
      ]
     },
     "execution_count": 11,
     "metadata": {},
     "output_type": "execute_result"
    }
   ],
   "source": [
    "full_df.head()"
   ]
  },
  {
   "cell_type": "code",
   "execution_count": 12,
   "id": "67762dea",
   "metadata": {},
   "outputs": [
    {
     "data": {
      "text/html": [
       "<div>\n",
       "<style scoped>\n",
       "    .dataframe tbody tr th:only-of-type {\n",
       "        vertical-align: middle;\n",
       "    }\n",
       "\n",
       "    .dataframe tbody tr th {\n",
       "        vertical-align: top;\n",
       "    }\n",
       "\n",
       "    .dataframe thead th {\n",
       "        text-align: right;\n",
       "    }\n",
       "</style>\n",
       "<table border=\"1\" class=\"dataframe\">\n",
       "  <thead>\n",
       "    <tr style=\"text-align: right;\">\n",
       "      <th></th>\n",
       "      <th>source</th>\n",
       "      <th>id</th>\n",
       "      <th>text</th>\n",
       "    </tr>\n",
       "  </thead>\n",
       "  <tbody>\n",
       "    <tr>\n",
       "      <th>1392517</th>\n",
       "      <td>ai</td>\n",
       "      <td>1418649</td>\n",
       "      <td>Today, I accomplished a major feat. I stepped ...</td>\n",
       "    </tr>\n",
       "    <tr>\n",
       "      <th>1392518</th>\n",
       "      <td>ai</td>\n",
       "      <td>1418650</td>\n",
       "      <td>As rockets rain down from the sky\\nEurope trem...</td>\n",
       "    </tr>\n",
       "    <tr>\n",
       "      <th>1392519</th>\n",
       "      <td>ai</td>\n",
       "      <td>1418651</td>\n",
       "      <td>On January 6th, 2023, the world lost a true pi...</td>\n",
       "    </tr>\n",
       "    <tr>\n",
       "      <th>1392520</th>\n",
       "      <td>ai</td>\n",
       "      <td>1418652</td>\n",
       "      <td>A gene bank is a repository of genetic materia...</td>\n",
       "    </tr>\n",
       "    <tr>\n",
       "      <th>1392521</th>\n",
       "      <td>ai</td>\n",
       "      <td>1418655</td>\n",
       "      <td>On the twelfth day of Christmas, My true love ...</td>\n",
       "    </tr>\n",
       "  </tbody>\n",
       "</table>\n",
       "</div>"
      ],
      "text/plain": [
       "        source       id                                               text\n",
       "1392517     ai  1418649  Today, I accomplished a major feat. I stepped ...\n",
       "1392518     ai  1418650  As rockets rain down from the sky\\nEurope trem...\n",
       "1392519     ai  1418651  On January 6th, 2023, the world lost a true pi...\n",
       "1392520     ai  1418652  A gene bank is a repository of genetic materia...\n",
       "1392521     ai  1418655  On the twelfth day of Christmas, My true love ..."
      ]
     },
     "execution_count": 12,
     "metadata": {},
     "output_type": "execute_result"
    }
   ],
   "source": [
    "full_df.tail()"
   ]
  },
  {
   "cell_type": "code",
   "execution_count": 13,
   "id": "277a1fe2",
   "metadata": {},
   "outputs": [
    {
     "data": {
      "text/html": [
       "<div>\n",
       "<style scoped>\n",
       "    .dataframe tbody tr th:only-of-type {\n",
       "        vertical-align: middle;\n",
       "    }\n",
       "\n",
       "    .dataframe tbody tr th {\n",
       "        vertical-align: top;\n",
       "    }\n",
       "\n",
       "    .dataframe thead th {\n",
       "        text-align: right;\n",
       "    }\n",
       "</style>\n",
       "<table border=\"1\" class=\"dataframe\">\n",
       "  <thead>\n",
       "    <tr style=\"text-align: right;\">\n",
       "      <th></th>\n",
       "      <th>id</th>\n",
       "    </tr>\n",
       "  </thead>\n",
       "  <tbody>\n",
       "    <tr>\n",
       "      <th>count</th>\n",
       "      <td>1.392522e+06</td>\n",
       "    </tr>\n",
       "    <tr>\n",
       "      <th>mean</th>\n",
       "      <td>7.089847e+05</td>\n",
       "    </tr>\n",
       "    <tr>\n",
       "      <th>std</th>\n",
       "      <td>4.095816e+05</td>\n",
       "    </tr>\n",
       "    <tr>\n",
       "      <th>min</th>\n",
       "      <td>0.000000e+00</td>\n",
       "    </tr>\n",
       "    <tr>\n",
       "      <th>25%</th>\n",
       "      <td>3.481302e+05</td>\n",
       "    </tr>\n",
       "    <tr>\n",
       "      <th>50%</th>\n",
       "      <td>7.127235e+05</td>\n",
       "    </tr>\n",
       "    <tr>\n",
       "      <th>75%</th>\n",
       "      <td>1.064353e+06</td>\n",
       "    </tr>\n",
       "    <tr>\n",
       "      <th>max</th>\n",
       "      <td>1.418655e+06</td>\n",
       "    </tr>\n",
       "  </tbody>\n",
       "</table>\n",
       "</div>"
      ],
      "text/plain": [
       "                 id\n",
       "count  1.392522e+06\n",
       "mean   7.089847e+05\n",
       "std    4.095816e+05\n",
       "min    0.000000e+00\n",
       "25%    3.481302e+05\n",
       "50%    7.127235e+05\n",
       "75%    1.064353e+06\n",
       "max    1.418655e+06"
      ]
     },
     "execution_count": 13,
     "metadata": {},
     "output_type": "execute_result"
    }
   ],
   "source": [
    "full_df.describe()"
   ]
  },
  {
   "cell_type": "code",
   "execution_count": 14,
   "id": "ad22659b",
   "metadata": {},
   "outputs": [
    {
     "name": "stdout",
     "output_type": "stream",
     "text": [
      "<class 'pandas.core.frame.DataFrame'>\n",
      "RangeIndex: 1392522 entries, 0 to 1392521\n",
      "Data columns (total 3 columns):\n",
      " #   Column  Non-Null Count    Dtype \n",
      "---  ------  --------------    ----- \n",
      " 0   source  1392522 non-null  object\n",
      " 1   id      1392522 non-null  int64 \n",
      " 2   text    1392362 non-null  object\n",
      "dtypes: int64(1), object(2)\n",
      "memory usage: 31.9+ MB\n"
     ]
    }
   ],
   "source": [
    "full_df.info()"
   ]
  },
  {
   "cell_type": "code",
   "execution_count": 15,
   "id": "09c7daaf",
   "metadata": {},
   "outputs": [
    {
     "data": {
      "text/plain": [
       "source      0\n",
       "id          0\n",
       "text      160\n",
       "dtype: int64"
      ]
     },
     "execution_count": 15,
     "metadata": {},
     "output_type": "execute_result"
    }
   ],
   "source": [
    "full_df.isna().sum()"
   ]
  },
  {
   "cell_type": "code",
   "execution_count": 18,
   "id": "f64b8b62",
   "metadata": {},
   "outputs": [],
   "source": [
    "full_df.dropna(inplace=True)"
   ]
  },
  {
   "cell_type": "code",
   "execution_count": 19,
   "id": "329387d0",
   "metadata": {},
   "outputs": [
    {
     "name": "stdout",
     "output_type": "stream",
     "text": [
      "<class 'pandas.core.frame.DataFrame'>\n",
      "Index: 1392362 entries, 0 to 1392521\n",
      "Data columns (total 3 columns):\n",
      " #   Column  Non-Null Count    Dtype \n",
      "---  ------  --------------    ----- \n",
      " 0   source  1392362 non-null  object\n",
      " 1   id      1392362 non-null  int64 \n",
      " 2   text    1392362 non-null  object\n",
      "dtypes: int64(1), object(2)\n",
      "memory usage: 42.5+ MB\n"
     ]
    }
   ],
   "source": [
    "full_df.info()"
   ]
  },
  {
   "cell_type": "code",
   "execution_count": 20,
   "id": "86845aa2",
   "metadata": {},
   "outputs": [
    {
     "data": {
      "text/plain": [
       "6496"
      ]
     },
     "execution_count": 20,
     "metadata": {},
     "output_type": "execute_result"
    }
   ],
   "source": [
    "full_df['text'].duplicated().sum()"
   ]
  },
  {
   "cell_type": "code",
   "execution_count": 21,
   "id": "245a5fdd",
   "metadata": {},
   "outputs": [],
   "source": [
    "full_df.drop_duplicates(inplace=True)"
   ]
  },
  {
   "cell_type": "code",
   "execution_count": 22,
   "id": "dcdcfc23",
   "metadata": {},
   "outputs": [
    {
     "name": "stdout",
     "output_type": "stream",
     "text": [
      "<class 'pandas.core.frame.DataFrame'>\n",
      "Index: 1392362 entries, 0 to 1392521\n",
      "Data columns (total 3 columns):\n",
      " #   Column  Non-Null Count    Dtype \n",
      "---  ------  --------------    ----- \n",
      " 0   source  1392362 non-null  object\n",
      " 1   id      1392362 non-null  int64 \n",
      " 2   text    1392362 non-null  object\n",
      "dtypes: int64(1), object(2)\n",
      "memory usage: 42.5+ MB\n"
     ]
    }
   ],
   "source": [
    "full_df.info()"
   ]
  },
  {
   "cell_type": "code",
   "execution_count": null,
   "id": "710db5e9",
   "metadata": {},
   "outputs": [],
   "source": []
  }
 ],
 "metadata": {
  "kernelspec": {
   "display_name": "base",
   "language": "python",
   "name": "python3"
  },
  "language_info": {
   "codemirror_mode": {
    "name": "ipython",
    "version": 3
   },
   "file_extension": ".py",
   "mimetype": "text/x-python",
   "name": "python",
   "nbconvert_exporter": "python",
   "pygments_lexer": "ipython3",
   "version": "3.12.7"
  }
 },
 "nbformat": 4,
 "nbformat_minor": 5
}
